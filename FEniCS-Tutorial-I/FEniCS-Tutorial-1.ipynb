{
 "metadata": {
  "name": "",
  "signature": "sha256:1637c2e0f2359cbfc16d5af63c5d80f6524523e9d10af2e6e45769fb5c85d401"
 },
 "nbformat": 3,
 "nbformat_minor": 0,
 "worksheets": [
  {
   "cells": [
    {
     "cell_type": "markdown",
     "metadata": {},
     "source": [
      "Import all of the functions from the DOLFIN library. The DOLFIN library contains all of the C++ classes required for finite element computing. Importing dolfin allows access to these libraries in python. "
     ]
    },
    {
     "cell_type": "code",
     "collapsed": false,
     "input": [
      "from dolfin import *"
     ],
     "language": "python",
     "metadata": {},
     "outputs": [],
     "prompt_number": 15
    },
    {
     "cell_type": "markdown",
     "metadata": {},
     "source": [
      "Define a uniform finite element mesh over the square [0,1]x[0,1]. The mesh is a set of triangles. "
     ]
    },
    {
     "cell_type": "code",
     "collapsed": false,
     "input": [
      "mesh = UnitSquare(6, 4) # 6 x 4 rectangles. "
     ],
     "language": "python",
     "metadata": {},
     "outputs": [],
     "prompt_number": 16
    },
    {
     "cell_type": "markdown",
     "metadata": {},
     "source": [
      "Lets define a descrete function V over the mesh defined in the previous step. In this case lets default to the Lagrange family of elements (abbvr. CG)."
     ]
    },
    {
     "cell_type": "code",
     "collapsed": true,
     "input": [
      "V = FunctionSpace(mesh, 'Lagrange', 1)"
     ],
     "language": "python",
     "metadata": {},
     "outputs": [
      {
       "output_type": "stream",
       "stream": "stderr",
       "text": [
        "DEBUG:UFL:No integrals left after transformation, returning empty form.\n"
       ]
      },
      {
       "output_type": "stream",
       "stream": "stderr",
       "text": [
        "DEBUG:FFC:Reusing form from cache.\n"
       ]
      }
     ],
     "prompt_number": 17
    },
    {
     "cell_type": "markdown",
     "metadata": {},
     "source": [
      "Create the trial space $\\hat{V}$ "
     ]
    },
    {
     "cell_type": "code",
     "collapsed": false,
     "input": [
      "u = TrialFunction(V)"
     ],
     "language": "python",
     "metadata": {},
     "outputs": [],
     "prompt_number": 18
    },
    {
     "cell_type": "markdown",
     "metadata": {},
     "source": [
      "Create the test space $V$"
     ]
    },
    {
     "cell_type": "code",
     "collapsed": false,
     "input": [
      "v = TestFunction(V)"
     ],
     "language": "python",
     "metadata": {},
     "outputs": [],
     "prompt_number": 19
    },
    {
     "cell_type": "markdown",
     "metadata": {},
     "source": [
      "Lets define our initital values for $u$. $u_0 = 1 + x^2 + 2y^2$. `Expresssion` requires that the function be converted into proper C/C++ syntax. The array `x` represents the x and y values. "
     ]
    },
    {
     "cell_type": "code",
     "collapsed": false,
     "input": [
      "u0 = Expression('1 + x[0]*x[0] + 2 * x[1]*x[1]')"
     ],
     "language": "python",
     "metadata": {},
     "outputs": [],
     "prompt_number": 20
    },
    {
     "cell_type": "markdown",
     "metadata": {},
     "source": [
      "Next we have to specify the boundary conditions for the space. Our boundary condition is $u = u_0$ on $\\partial\\Omega$. "
     ]
    },
    {
     "cell_type": "code",
     "collapsed": false,
     "input": [
      "def u0_boundary(x):\n",
      "    tol = 1E-15\n",
      "    return abs(x[0]) < tol or \\\n",
      "           abs(x[1]) < tol or \\\n",
      "           abs(x[0] - 1) < tol or \\\n",
      "           abs(x[1] - 1) < tol"
     ],
     "language": "python",
     "metadata": {},
     "outputs": [],
     "prompt_number": 21
    },
    {
     "cell_type": "markdown",
     "metadata": {},
     "source": [
      "There are multiple `u0_boundary` implementations we can use in this tutorial. This is also an acceptable boundary function. __As long as u0_boundary takes in a single element and returns a boolean value__."
     ]
    },
    {
     "cell_type": "code",
     "collapsed": false,
     "input": [
      "def u0_boundary(x, on_boundary):\n",
      "    return on_boundary"
     ],
     "language": "python",
     "metadata": {},
     "outputs": [],
     "prompt_number": 22
    },
    {
     "cell_type": "markdown",
     "metadata": {},
     "source": [
      "Here we define the Direchlet (Essential) boundary conditions. "
     ]
    },
    {
     "cell_type": "code",
     "collapsed": false,
     "input": [
      "bc = DirichletBC(V, u0, u0_boundary)"
     ],
     "language": "python",
     "metadata": {},
     "outputs": [],
     "prompt_number": 23
    },
    {
     "cell_type": "markdown",
     "metadata": {},
     "source": [
      "Now we have to specify our f function in order to define $a(u, v)$ and $L(v)$."
     ]
    },
    {
     "cell_type": "code",
     "collapsed": false,
     "input": [
      "f = Constant(-6.0)"
     ],
     "language": "python",
     "metadata": {},
     "outputs": [],
     "prompt_number": 24
    },
    {
     "cell_type": "markdown",
     "metadata": {},
     "source": [
      "Now we must define our $a$ and $L$ functions. The language in used to express the weak form is called UFL (Unified Form Language) which is an integral part of FEniCS."
     ]
    },
    {
     "cell_type": "code",
     "collapsed": false,
     "input": [
      "a = inner(nabla_grad(u), nabla_grad(v)) * dx\n",
      "L = f * v * dx"
     ],
     "language": "python",
     "metadata": {},
     "outputs": [],
     "prompt_number": 25
    },
    {
     "cell_type": "markdown",
     "metadata": {},
     "source": [
      "Note: `nabla_grad` and `grad` are not the same unless we are performing tensor algebra. `nabla_grad` acts as a vector operator. It is preferable to use this function when possible. "
     ]
    },
    {
     "cell_type": "code",
     "collapsed": false,
     "input": [
      "# Compute the solution\n",
      "u = Function(V)\n",
      "solve(a == L, u, bc)\n",
      "\n",
      "# Plot the solution and the mesh"
     ],
     "language": "python",
     "metadata": {},
     "outputs": [
      {
       "output_type": "stream",
       "stream": "stderr",
       "text": [
        "INFO:FFC:Adjusting missing element domain to Domain(Cell('triangle', 2), 'triangle_multiverse', 2, 2).\n"
       ]
      },
      {
       "output_type": "stream",
       "stream": "stderr",
       "text": [
        "DEBUG:UFL:No integrals left after transformation, returning empty form.\n"
       ]
      },
      {
       "output_type": "stream",
       "stream": "stderr",
       "text": [
        "DEBUG:FFC:Reusing form from cache.\n"
       ]
      },
      {
       "output_type": "stream",
       "stream": "stderr",
       "text": [
        "DEBUG:UFL:No integrals left after transformation, returning empty form.\n"
       ]
      },
      {
       "output_type": "stream",
       "stream": "stderr",
       "text": [
        "DEBUG:UFL:No integrals left after transformation, returning empty form.\n"
       ]
      },
      {
       "output_type": "stream",
       "stream": "stderr",
       "text": [
        "DEBUG:FFC:Reusing form from cache.\n"
       ]
      }
     ],
     "prompt_number": 26
    },
    {
     "cell_type": "markdown",
     "metadata": {},
     "source": [
      "`a == L` is equivalent to $ \\nabla u * \\nabla v * dx = f v dx$"
     ]
    },
    {
     "cell_type": "code",
     "collapsed": false,
     "input": [
      "plot(u)\n",
      "plot(mesh)\n",
      "interactive()"
     ],
     "language": "python",
     "metadata": {},
     "outputs": [],
     "prompt_number": 27
    },
    {
     "cell_type": "code",
     "collapsed": false,
     "input": [
      "u_nodal_values = u.vector()\n",
      "u_array = u_nodal_values.array() # Returns a numpy array!\n",
      "coor = mesh.coordinates()\n",
      "if mesh.num_vertices() == len(u_array):\n",
      "    for i in range(mesh.num_vertices()):\n",
      "        print 'u(%8g, %8g) = %g' % (coor[i][0], coor[i][1], u_array[i])\n"
     ],
     "language": "python",
     "metadata": {},
     "outputs": [
      {
       "output_type": "stream",
       "stream": "stdout",
       "text": [
        "u(       0,        0) = 3\n",
        "u(0.166667,        0) = 2.125\n",
        "u(0.333333,        0) = 3.02778\n",
        "u(     0.5,        0) = 1.5\n",
        "u(0.666667,        0) = 2.15278\n",
        "u(0.833333,        0) = 3.11111\n",
        "u(       1,        0) = 1.125\n",
        "u(       0,     0.25) = 1.52778\n",
        "u(0.166667,     0.25) = 2.23611\n",
        "u(0.333333,     0.25) = 3.25\n",
        "u(     0.5,     0.25) = 1\n",
        "u(0.666667,     0.25) = 1.15278\n",
        "u(0.833333,     0.25) = 1.61111\n",
        "u(       1,     0.25) = 2.375\n",
        "u(       0,      0.5) = 3.44444\n",
        "u(0.166667,      0.5) = 1.02778\n",
        "u(0.333333,      0.5) = 1.23611\n",
        "u(     0.5,      0.5) = 1.75\n",
        "u(0.666667,      0.5) = 2.56944\n",
        "u(0.833333,      0.5) = 3.69444\n",
        "u(       1,      0.5) = 1.11111\n",
        "u(       0,     0.75) = 1.375\n",
        "u(0.166667,     0.75) = 1.94444\n",
        "u(0.333333,     0.75) = 2.81944\n",
        "u(     0.5,     0.75) = 4\n",
        "u(0.666667,     0.75) = 1.25\n",
        "u(0.833333,     0.75) = 1.56944\n",
        "u(       1,     0.75) = 2.19444\n",
        "u(       0,        1) = 3.125\n",
        "u(0.166667,        1) = 1.44444\n",
        "u(0.333333,        1) = 1.81944\n",
        "u(     0.5,        1) = 2.5\n",
        "u(0.666667,        1) = 1.69444\n",
        "u(0.833333,        1) = 2.125\n",
        "u(       1,        1) = 2\n"
       ]
      }
     ],
     "prompt_number": 15
    },
    {
     "cell_type": "markdown",
     "metadata": {},
     "source": [
      "Perhaps we are not satisfied by pulling out the $u$ values. Instead we can interpolate and find the exeact solution $u_e$. "
     ]
    },
    {
     "cell_type": "code",
     "collapsed": false,
     "input": [
      "u_e = interpolate(u0, V)"
     ],
     "language": "python",
     "metadata": {},
     "outputs": [],
     "prompt_number": 16
    },
    {
     "cell_type": "markdown",
     "metadata": {},
     "source": [
      "Now we can calculate the error between $u$ and $u_e$"
     ]
    },
    {
     "cell_type": "code",
     "collapsed": false,
     "input": [
      "import numpy as np\n",
      "u_e_array = u_e.vector().array()\n",
      "print 'Max error:', np.abs(u_e_array - u_array).max()"
     ],
     "language": "python",
     "metadata": {},
     "outputs": [
      {
       "output_type": "stream",
       "stream": "stdout",
       "text": [
        "Max error: 8.881784197e-16\n"
       ]
      }
     ],
     "prompt_number": 17
    },
    {
     "cell_type": "code",
     "collapsed": false,
     "input": [
      "center = (0.5, 0.5)\n",
      "print 'numerical u at the center point:',  u(center)\n",
      "print 'exact     u at the center point:', u0(center)"
     ],
     "language": "python",
     "metadata": {},
     "outputs": [
      {
       "output_type": "stream",
       "stream": "stdout",
       "text": [
        "numerical u at the center point: 1.75\n",
        "exact     u at the center point: 1.75\n"
       ]
      }
     ],
     "prompt_number": 18
    },
    {
     "cell_type": "markdown",
     "metadata": {},
     "source": [
      "# Solving a Real Physical Problem"
     ]
    },
    {
     "cell_type": "code",
     "collapsed": false,
     "input": [
      "\"\"\"\n",
      "FEniCS program for the deflection w(x,y) of a membrane:\n",
      "-Laplace(w) = p = Gaussian function, in a unit circle,\n",
      "with w = 0 on the boundary.\n",
      "\"\"\"\n",
      "\n",
      "from dolfin import *\n",
      "import numpy\n",
      "\n",
      "# Set pressure function:\n",
      "T = 10.0  # tension\n",
      "A = 1.0   # pressure amplitude\n",
      "R = 0.3   # radius of domain\n",
      "theta = 0.2\n",
      "x0 = 0.6*R*cos(theta)\n",
      "y0 = 0.6*R*sin(theta)\n",
      "sigma = 0.025\n",
      "sigma = 50  # large value for verification\n",
      "n = 40   # approx no of elements in radial direction\n",
      "mesh = UnitCircle(n)\n",
      "V = FunctionSpace(mesh, 'Lagrange', 1)\n",
      "\n",
      "# Define boundary condition w=0\n",
      "def boundary(x, on_boundary):\n",
      "    return on_boundary\n",
      "\n",
      "bc = DirichletBC(V, Constant(0.0), boundary)\n",
      "\n",
      "# Define variational problem\n",
      "w = TrialFunction(V)\n",
      "v = TestFunction(V)\n",
      "a = inner(nabla_grad(w), nabla_grad(v))*dx\n",
      "f = Expression('4*exp(-0.5*(pow((R*x[0] - x0)/sigma, 2)) '\n",
      "               '      -0.5*(pow((R*x[1] - y0)/sigma, 2)))',\n",
      "               R=R, x0=x0, y0=y0, sigma=sigma)\n",
      "L = f*v*dx\n",
      "\n",
      "# Compute solution\n",
      "w = Function(V)\n",
      "problem = LinearVariationalProblem(a, L, w, bc)\n",
      "solver  = LinearVariationalSolver(problem)\n",
      "solver.parameters['linear_solver'] = 'cg'\n",
      "solver.parameters['preconditioner'] = 'ilu'\n",
      "solver.solve()\n",
      "\n",
      "# Plot scaled solution, mesh and pressure\n",
      "plot(mesh, title='Mesh over scaled domain')\n",
      "plot(w, title='Scaled deflection')\n",
      "f = interpolate(f, V)\n",
      "plot(f, title='Scaled pressure')\n",
      "\n",
      "# Find maximum real deflection\n",
      "max_w = w.vector().array().max()\n",
      "max_D = A*max_w/(8*pi*sigma*T)\n",
      "print 'Maximum real deflection is', max_D\n",
      "\n",
      "# Verification for \"flat\" pressure (large sigma)\n",
      "if sigma >= 50:\n",
      "    w_e = Expression(\"1 - x[0]*x[0] - x[1]*x[1]\")\n",
      "    w_e = interpolate(w_e, V)\n",
      "    dev = numpy.abs(w_e.vector().array() - w.vector().array()).max()\n",
      "    print 'sigma=%g: max deviation=%e' % (sigma, dev)\n",
      "\n",
      "# Should be at the end\n",
      "interactive()"
     ],
     "language": "python",
     "metadata": {},
     "outputs": [
      {
       "output_type": "stream",
       "stream": "stderr",
       "text": [
        "DEBUG:UFL:No integrals left after transformation, returning empty form.\n"
       ]
      },
      {
       "output_type": "stream",
       "stream": "stderr",
       "text": [
        "DEBUG:FFC:Reusing form from cache.\n"
       ]
      },
      {
       "output_type": "stream",
       "stream": "stderr",
       "text": [
        "INFO:FFC:Adjusting missing element domain to Domain(Cell('triangle', 2), 'triangle_multiverse', 2, 2).\n"
       ]
      },
      {
       "output_type": "stream",
       "stream": "stderr",
       "text": [
        "INFO:FFC:Adjusting element degree from ? to 1\n"
       ]
      },
      {
       "output_type": "stream",
       "stream": "stderr",
       "text": [
        "DEBUG:UFL:No integrals left after transformation, returning empty form.\n"
       ]
      },
      {
       "output_type": "stream",
       "stream": "stdout",
       "text": [
        "Calling FFC just-in-time (JIT) compiler, this may take some time.\n"
       ]
      },
      {
       "output_type": "stream",
       "stream": "stderr",
       "text": [
        "Level 25:FFC:Calling FFC just-in-time (JIT) compiler, this may take some time.\n"
       ]
      },
      {
       "output_type": "stream",
       "stream": "stderr",
       "text": [
        "INFO:FFC:Compiling form ffc_form_9061eb79f30a43dd68adc42495da5330d0bc83df\n",
        "\n"
       ]
      },
      {
       "output_type": "stream",
       "stream": "stderr",
       "text": [
        "INFO:FFC:Compiler stage 1: Analyzing form(s)\n"
       ]
      },
      {
       "output_type": "stream",
       "stream": "stderr",
       "text": [
        "INFO:FFC:-----------------------------------\n"
       ]
      },
      {
       "output_type": "stream",
       "stream": "stderr",
       "text": [
        "INFO:FFC:  \n"
       ]
      },
      {
       "output_type": "stream",
       "stream": "stderr",
       "text": [
        "INFO:FFC:  Name:                   ''\n",
        "  Cell:                   <triangle cell in 2D>\n",
        "  Topological dimension:  2\n",
        "  Geometric dimension:    2\n",
        "  Rank:                   1\n",
        "  Number of coefficients: 1\n",
        "  Arguments:              '[v_{-2}]'\n",
        "  Coefficients:           '[f_5]'\n",
        "  Argument names:         '[v0]'\n",
        "  Coefficient names:      '[w0]'\n",
        "  Unique elements:        'CG1(?)'\n",
        "  Unique sub elements:    'CG1(?)'\n",
        "  Domains:                (Domain(Cell('triangle', 2), 'triangle_multiverse', 2, 2),\n",
        "                          )\n",
        "  Top level domains:      (Domain(Cell('triangle', 2), 'triangle_multiverse', 2, 2),\n",
        "                          )\n",
        "  \n"
       ]
      },
      {
       "output_type": "stream",
       "stream": "stderr",
       "text": [
        "INFO:FFC:  Extracting monomial form representation from UFL form\n"
       ]
      },
      {
       "output_type": "stream",
       "stream": "stderr",
       "text": [
        "INFO:FFC:  Transforming monomial form to reference element\n"
       ]
      },
      {
       "output_type": "stream",
       "stream": "stderr",
       "text": [
        "DEBUG:FFC:  Reusing element from cache\n"
       ]
      },
      {
       "output_type": "stream",
       "stream": "stderr",
       "text": [
        "DEBUG:FFC:  Estimated cost of tensor representation: 1\n"
       ]
      },
      {
       "output_type": "stream",
       "stream": "stderr",
       "text": [
        "INFO:FFC:  representation:    auto --> tensor\n"
       ]
      },
      {
       "output_type": "stream",
       "stream": "stderr",
       "text": [
        "DEBUG:FFC:  Selecting quadrature degree based on total polynomial degree of integrand: 2\n"
       ]
      },
      {
       "output_type": "stream",
       "stream": "stderr",
       "text": [
        "INFO:FFC:  quadrature_degree: auto --> 2\n"
       ]
      },
      {
       "output_type": "stream",
       "stream": "stderr",
       "text": [
        "INFO:FFC:  quadrature_rule:   auto --> default\n"
       ]
      },
      {
       "output_type": "stream",
       "stream": "stderr",
       "text": [
        "INFO:FFC:  \n"
       ]
      },
      {
       "output_type": "stream",
       "stream": "stderr",
       "text": [
        "INFO:FFC:Compiler stage 1 finished in 0.0153029 seconds.\n",
        "\n"
       ]
      },
      {
       "output_type": "stream",
       "stream": "stderr",
       "text": [
        "INFO:FFC:Compiler stage 2: Computing intermediate representation\n"
       ]
      },
      {
       "output_type": "stream",
       "stream": "stderr",
       "text": [
        "INFO:FFC:-------------------------------------------------------\n"
       ]
      },
      {
       "output_type": "stream",
       "stream": "stderr",
       "text": [
        "INFO:FFC:  Computing representation of 1 elements\n"
       ]
      },
      {
       "output_type": "stream",
       "stream": "stderr",
       "text": [
        "DEBUG:FFC:  Reusing element from cache\n"
       ]
      },
      {
       "output_type": "stream",
       "stream": "stderr",
       "text": [
        "DEBUG:FFC:  Reusing element from cache\n"
       ]
      },
      {
       "output_type": "stream",
       "stream": "stderr",
       "text": [
        "INFO:FFC:  Computing representation of 1 dofmaps\n"
       ]
      },
      {
       "output_type": "stream",
       "stream": "stderr",
       "text": [
        "DEBUG:FFC:  Reusing element from cache\n"
       ]
      },
      {
       "output_type": "stream",
       "stream": "stderr",
       "text": [
        "INFO:FFC:  Computing representation of integrals\n"
       ]
      },
      {
       "output_type": "stream",
       "stream": "stderr",
       "text": [
        "INFO:FFC:  Computing tensor representation\n"
       ]
      },
      {
       "output_type": "stream",
       "stream": "stderr",
       "text": [
        "INFO:FFC:  Extracting monomial form representation from UFL form\n"
       ]
      },
      {
       "output_type": "stream",
       "stream": "stderr",
       "text": [
        "INFO:FFC:  Transforming monomial form to reference element\n"
       ]
      },
      {
       "output_type": "stream",
       "stream": "stderr",
       "text": [
        "DEBUG:FFC:  Reusing element from cache\n"
       ]
      },
      {
       "output_type": "stream",
       "stream": "stderr",
       "text": [
        "DEBUG:FFC:  Reusing element from cache\n"
       ]
      },
      {
       "output_type": "stream",
       "stream": "stderr",
       "text": [
        "DEBUG:FFC:  Reusing element from cache\n"
       ]
      },
      {
       "output_type": "stream",
       "stream": "stderr",
       "text": [
        "INFO:FFC:  Precomputing integrals on reference element\n"
       ]
      },
      {
       "output_type": "stream",
       "stream": "stderr",
       "text": [
        "DEBUG:FFC:  Reusing element from cache\n"
       ]
      },
      {
       "output_type": "stream",
       "stream": "stderr",
       "text": [
        "DEBUG:FFC:  9 entries computed in 0.00128 seconds\n"
       ]
      },
      {
       "output_type": "stream",
       "stream": "stderr",
       "text": [
        "DEBUG:FFC:  Shape of reference tensor: (3, 3)\n"
       ]
      },
      {
       "output_type": "stream",
       "stream": "stderr",
       "text": [
        "DEBUG:FFC:  Primary multi index:   rank = 1 dims = [3] indices = [[0], [1], [2]]\n"
       ]
      },
      {
       "output_type": "stream",
       "stream": "stderr",
       "text": [
        "DEBUG:FFC:  Secondary multi index: rank = 1 dims = [3] indices = [[0], [1], [2]]\n"
       ]
      },
      {
       "output_type": "stream",
       "stream": "stderr",
       "text": [
        "DEBUG:FFC:  Internal multi index:  rank = 0 dims = [] indices = [[]]\n"
       ]
      },
      {
       "output_type": "stream",
       "stream": "stderr",
       "text": [
        "DEBUG:FFC:  Secondary multi index: rank = 1 dims = [3] indices = [[0], [1], [2]]\n"
       ]
      },
      {
       "output_type": "stream",
       "stream": "stderr",
       "text": [
        "DEBUG:FFC:  External multi index:  rank = 0 dims = [] indices = [[]]\n"
       ]
      },
      {
       "output_type": "stream",
       "stream": "stderr",
       "text": [
        "INFO:FFC:  Computing representation of forms\n"
       ]
      },
      {
       "output_type": "stream",
       "stream": "stderr",
       "text": [
        "INFO:FFC:  \n"
       ]
      },
      {
       "output_type": "stream",
       "stream": "stderr",
       "text": [
        "INFO:FFC:Compiler stage 2 finished in 0.0264001 seconds.\n",
        "\n"
       ]
      },
      {
       "output_type": "stream",
       "stream": "stderr",
       "text": [
        "INFO:FFC:Compiler stage 3: Optimizing intermediate representation\n"
       ]
      },
      {
       "output_type": "stream",
       "stream": "stderr",
       "text": [
        "INFO:FFC:--------------------------------------------------------\n"
       ]
      },
      {
       "output_type": "stream",
       "stream": "stderr",
       "text": [
        "INFO:FFC:  Skipping optimizations, add -O to optimize\n"
       ]
      },
      {
       "output_type": "stream",
       "stream": "stderr",
       "text": [
        "INFO:FFC:  \n"
       ]
      },
      {
       "output_type": "stream",
       "stream": "stderr",
       "text": [
        "INFO:FFC:Compiler stage 3 finished in 0.00964904 seconds.\n",
        "\n"
       ]
      },
      {
       "output_type": "stream",
       "stream": "stderr",
       "text": [
        "INFO:FFC:Compiler stage 4: Generating code\n"
       ]
      },
      {
       "output_type": "stream",
       "stream": "stderr",
       "text": [
        "INFO:FFC:---------------------------------\n"
       ]
      },
      {
       "output_type": "stream",
       "stream": "stderr",
       "text": [
        "INFO:FFC:  Generating code for 1 element(s)\n"
       ]
      },
      {
       "output_type": "stream",
       "stream": "stderr",
       "text": [
        "DEBUG:FFC:  Removing unused variable: tmp2\n"
       ]
      },
      {
       "output_type": "stream",
       "stream": "stderr",
       "text": [
        "DEBUG:FFC:  Removing unused variable: tmp1\n"
       ]
      },
      {
       "output_type": "stream",
       "stream": "stderr",
       "text": [
        "DEBUG:FFC:  Removing unused variable: tmp7\n"
       ]
      },
      {
       "output_type": "stream",
       "stream": "stderr",
       "text": [
        "DEBUG:FFC:  Removing unused variable: tmp6\n"
       ]
      },
      {
       "output_type": "stream",
       "stream": "stderr",
       "text": [
        "DEBUG:FFC:  Removing unused variable: tmp5\n"
       ]
      },
      {
       "output_type": "stream",
       "stream": "stderr",
       "text": [
        "DEBUG:FFC:  Removing unused variable: tt\n"
       ]
      },
      {
       "output_type": "stream",
       "stream": "stderr",
       "text": [
        "DEBUG:FFC:  Removing unused variable: ss\n"
       ]
      },
      {
       "output_type": "stream",
       "stream": "stderr",
       "text": [
        "DEBUG:FFC:  Removing unused variable: rr\n"
       ]
      },
      {
       "output_type": "stream",
       "stream": "stderr",
       "text": [
        "DEBUG:FFC:  Removing unused variable: tmp2\n"
       ]
      },
      {
       "output_type": "stream",
       "stream": "stderr",
       "text": [
        "DEBUG:FFC:  Removing unused variable: tmp1\n"
       ]
      },
      {
       "output_type": "stream",
       "stream": "stderr",
       "text": [
        "DEBUG:FFC:  Removing unused variable: tmp7\n"
       ]
      },
      {
       "output_type": "stream",
       "stream": "stderr",
       "text": [
        "DEBUG:FFC:  Removing unused variable: tmp6\n"
       ]
      },
      {
       "output_type": "stream",
       "stream": "stderr",
       "text": [
        "DEBUG:FFC:  Removing unused variable: tmp5\n"
       ]
      },
      {
       "output_type": "stream",
       "stream": "stderr",
       "text": [
        "DEBUG:FFC:  Removing unused variable: tt\n"
       ]
      },
      {
       "output_type": "stream",
       "stream": "stderr",
       "text": [
        "DEBUG:FFC:  Removing unused variable: ss\n"
       ]
      },
      {
       "output_type": "stream",
       "stream": "stderr",
       "text": [
        "DEBUG:FFC:  Removing unused variable: rr\n"
       ]
      },
      {
       "output_type": "stream",
       "stream": "stderr",
       "text": [
        "DEBUG:FFC:  Removing unused variable: tmp2\n"
       ]
      },
      {
       "output_type": "stream",
       "stream": "stderr",
       "text": [
        "DEBUG:FFC:  Removing unused variable: tmp1\n"
       ]
      },
      {
       "output_type": "stream",
       "stream": "stderr",
       "text": [
        "DEBUG:FFC:  Removing unused variable: tmp7\n"
       ]
      },
      {
       "output_type": "stream",
       "stream": "stderr",
       "text": [
        "DEBUG:FFC:  Removing unused variable: tmp6\n"
       ]
      },
      {
       "output_type": "stream",
       "stream": "stderr",
       "text": [
        "DEBUG:FFC:  Removing unused variable: tmp5\n"
       ]
      },
      {
       "output_type": "stream",
       "stream": "stderr",
       "text": [
        "DEBUG:FFC:  Removing unused variable: tt\n"
       ]
      },
      {
       "output_type": "stream",
       "stream": "stderr",
       "text": [
        "DEBUG:FFC:  Removing unused variable: ss\n"
       ]
      },
      {
       "output_type": "stream",
       "stream": "stderr",
       "text": [
        "DEBUG:FFC:  Removing unused variable: rr\n"
       ]
      },
      {
       "output_type": "stream",
       "stream": "stderr",
       "text": [
        "DEBUG:FFC:  Removing unused variable: tmp2\n"
       ]
      },
      {
       "output_type": "stream",
       "stream": "stderr",
       "text": [
        "DEBUG:FFC:  Removing unused variable: tmp1\n"
       ]
      },
      {
       "output_type": "stream",
       "stream": "stderr",
       "text": [
        "DEBUG:FFC:  Removing unused variable: tmp7\n"
       ]
      },
      {
       "output_type": "stream",
       "stream": "stderr",
       "text": [
        "DEBUG:FFC:  Removing unused variable: tmp6\n"
       ]
      },
      {
       "output_type": "stream",
       "stream": "stderr",
       "text": [
        "DEBUG:FFC:  Removing unused variable: tmp5\n"
       ]
      },
      {
       "output_type": "stream",
       "stream": "stderr",
       "text": [
        "DEBUG:FFC:  Removing unused variable: tt\n"
       ]
      },
      {
       "output_type": "stream",
       "stream": "stderr",
       "text": [
        "DEBUG:FFC:  Removing unused variable: ss\n"
       ]
      },
      {
       "output_type": "stream",
       "stream": "stderr",
       "text": [
        "DEBUG:FFC:  Removing unused variable: rr\n"
       ]
      },
      {
       "output_type": "stream",
       "stream": "stderr",
       "text": [
        "DEBUG:FFC:  Removing unused variable: tmp2\n"
       ]
      },
      {
       "output_type": "stream",
       "stream": "stderr",
       "text": [
        "DEBUG:FFC:  Removing unused variable: tmp1\n"
       ]
      },
      {
       "output_type": "stream",
       "stream": "stderr",
       "text": [
        "DEBUG:FFC:  Removing unused variable: tmp7\n"
       ]
      },
      {
       "output_type": "stream",
       "stream": "stderr",
       "text": [
        "DEBUG:FFC:  Removing unused variable: tmp6\n"
       ]
      },
      {
       "output_type": "stream",
       "stream": "stderr",
       "text": [
        "DEBUG:FFC:  Removing unused variable: tmp5\n"
       ]
      },
      {
       "output_type": "stream",
       "stream": "stderr",
       "text": [
        "DEBUG:FFC:  Removing unused variable: tt\n"
       ]
      },
      {
       "output_type": "stream",
       "stream": "stderr",
       "text": [
        "DEBUG:FFC:  Removing unused variable: ss\n"
       ]
      },
      {
       "output_type": "stream",
       "stream": "stderr",
       "text": [
        "DEBUG:FFC:  Removing unused variable: rr\n"
       ]
      },
      {
       "output_type": "stream",
       "stream": "stderr",
       "text": [
        "DEBUG:FFC:  Removing unused variable: tmp2\n"
       ]
      },
      {
       "output_type": "stream",
       "stream": "stderr",
       "text": [
        "DEBUG:FFC:  Removing unused variable: tmp1\n"
       ]
      },
      {
       "output_type": "stream",
       "stream": "stderr",
       "text": [
        "DEBUG:FFC:  Removing unused variable: tmp7\n"
       ]
      },
      {
       "output_type": "stream",
       "stream": "stderr",
       "text": [
        "DEBUG:FFC:  Removing unused variable: tmp6\n"
       ]
      },
      {
       "output_type": "stream",
       "stream": "stderr",
       "text": [
        "DEBUG:FFC:  Removing unused variable: tmp5\n"
       ]
      },
      {
       "output_type": "stream",
       "stream": "stderr",
       "text": [
        "DEBUG:FFC:  Removing unused variable: tt\n"
       ]
      },
      {
       "output_type": "stream",
       "stream": "stderr",
       "text": [
        "DEBUG:FFC:  Removing unused variable: ss\n"
       ]
      },
      {
       "output_type": "stream",
       "stream": "stderr",
       "text": [
        "DEBUG:FFC:  Removing unused variable: rr\n"
       ]
      },
      {
       "output_type": "stream",
       "stream": "stderr",
       "text": [
        "INFO:FFC:  Generating code for 1 dofmap(s)\n"
       ]
      },
      {
       "output_type": "stream",
       "stream": "stderr",
       "text": [
        "INFO:FFC:  Generating code for integrals\n"
       ]
      },
      {
       "output_type": "stream",
       "stream": "stderr",
       "text": [
        "INFO:FFC:  Generating code for forms\n"
       ]
      },
      {
       "output_type": "stream",
       "stream": "stderr",
       "text": [
        "INFO:FFC:  \n"
       ]
      },
      {
       "output_type": "stream",
       "stream": "stderr",
       "text": [
        "INFO:FFC:Compiler stage 4 finished in 0.0989599 seconds.\n",
        "\n"
       ]
      },
      {
       "output_type": "stream",
       "stream": "stderr",
       "text": [
        "INFO:FFC:Compiler stage 4.1 finished in 8.10623e-06 seconds.\n",
        "\n"
       ]
      },
      {
       "output_type": "stream",
       "stream": "stderr",
       "text": [
        "INFO:FFC:Compiler stage 5: Formatting code\n"
       ]
      },
      {
       "output_type": "stream",
       "stream": "stderr",
       "text": [
        "INFO:FFC:---------------------------------\n"
       ]
      },
      {
       "output_type": "stream",
       "stream": "stderr",
       "text": [
        "INFO:FFC:  Output written to ./ffc_form_9061eb79f30a43dd68adc42495da5330d0bc83df.h.\n"
       ]
      },
      {
       "output_type": "stream",
       "stream": "stderr",
       "text": [
        "INFO:FFC:  \n"
       ]
      },
      {
       "output_type": "stream",
       "stream": "stderr",
       "text": [
        "INFO:FFC:Compiler stage 5 finished in 0.00470614 seconds.\n",
        "\n"
       ]
      },
      {
       "output_type": "stream",
       "stream": "stderr",
       "text": [
        "INFO:FFC:\u001b[1;37;32mFFC finished in 0.159036 seconds.\u001b[0m\n"
       ]
      },
      {
       "output_type": "stream",
       "stream": "stderr",
       "text": [
        "DEBUG:FFC:Compiling and linking Python extension module, this may take some time.\n"
       ]
      },
      {
       "output_type": "stream",
       "stream": "stderr",
       "text": [
        "DEBUG:UFL:No integrals left after transformation, returning empty form.\n"
       ]
      },
      {
       "output_type": "stream",
       "stream": "stderr",
       "text": [
        "DEBUG:UFL:No integrals left after transformation, returning empty form.\n"
       ]
      },
      {
       "output_type": "stream",
       "stream": "stderr",
       "text": [
        "DEBUG:FFC:Reusing form from cache.\n"
       ]
      },
      {
       "output_type": "stream",
       "stream": "stdout",
       "text": [
        "Maximum real deflection is 7.95793728495e-05\n"
       ]
      },
      {
       "output_type": "stream",
       "stream": "stdout",
       "text": [
        "sigma=50: max deviation=1.000452e-04\n"
       ]
      }
     ],
     "prompt_number": 19
    },
    {
     "cell_type": "markdown",
     "metadata": {},
     "source": [
      "# Quick Visualization with VTK\n",
      "`plot(u)` launches a FEniCS component called Viper, which applies the VTK package to visualize finite element functions. Not intended as a replacement for other frontends as Mayavi2, ParaView, and Visit). Make sure to run the code in the _Solving a Real Physical Problem_ section first. "
     ]
    },
    {
     "cell_type": "code",
     "collapsed": false,
     "input": [
      "viz_w = plot(w,\n",
      "            wireframe=False,\n",
      "            title='Scaled membrane deflection',\n",
      "            rescale=False,\n",
      "            axes=True,              # include axes\n",
      "            basename='deflection',  # default plotfile name\n",
      "            )\n",
      "\n",
      "viz_w.elevate(-65) # tilt camera -65 degrees (latitude dir)\n",
      "viz_w.set_min_max(0, 0.5*max_w)  # color scale\n",
      "viz_w.update(w)    # bring settings above into action\n",
      "viz_w.write_png('deflection.png')\n",
      "viz_w.write_ps('deflection', format='eps')\n",
      "interactive()"
     ],
     "language": "python",
     "metadata": {},
     "outputs": [
      {
       "output_type": "stream",
       "stream": "stdout",
       "text": [
        "*** Warning: VTKPlotter::write_ps() is not implemented -- use write_pdf instead\n"
       ]
      }
     ],
     "prompt_number": 20
    },
    {
     "cell_type": "markdown",
     "metadata": {},
     "source": [
      "# Computing Derivatives\n",
      "Now we jump into the section we have been discussing in class. Recall that the residual function is:\n",
      "\n",
      "\\begin{align}\n",
      "u = \\sum^N_{j=1}U_j\\phi_j\n",
      "\\end{align}"
     ]
    },
    {
     "cell_type": "code",
     "collapsed": false,
     "input": [
      "from dolfin import *"
     ],
     "language": "python",
     "metadata": {},
     "outputs": [],
     "prompt_number": 26
    },
    {
     "cell_type": "code",
     "collapsed": false,
     "input": [
      "mesh = UnitSquare(32, 32)\n",
      "# plot(mesh)\n",
      "# interactive()"
     ],
     "language": "python",
     "metadata": {},
     "outputs": [],
     "prompt_number": 27
    },
    {
     "cell_type": "code",
     "collapsed": false,
     "input": [
      "V_g = VectorFunctionSpace(mesh, 'Lagrange', 1)\n",
      "w = TrialFunction(V_g)\n",
      "v = TestFunction(V_g)"
     ],
     "language": "python",
     "metadata": {},
     "outputs": [
      {
       "output_type": "stream",
       "stream": "stderr",
       "text": [
        "DEBUG:UFL:No integrals left after transformation, returning empty form.\n"
       ]
      },
      {
       "output_type": "stream",
       "stream": "stderr",
       "text": [
        "DEBUG:FFC:Reusing form from cache.\n"
       ]
      }
     ],
     "prompt_number": 28
    },
    {
     "cell_type": "code",
     "collapsed": false,
     "input": [
      "a = inner(w, v)*dx"
     ],
     "language": "python",
     "metadata": {},
     "outputs": [],
     "prompt_number": 29
    },
    {
     "cell_type": "code",
     "collapsed": false,
     "input": [
      "L = inner(grad(w), v)*dx"
     ],
     "language": "python",
     "metadata": {},
     "outputs": [
      {
       "output_type": "stream",
       "stream": "stdout",
       "text": [
        "Shape mismatch.\n"
       ]
      },
      {
       "output_type": "stream",
       "stream": "stderr",
       "text": [
        "ERROR:UFL:Shape mismatch.\n"
       ]
      },
      {
       "ename": "UFLException",
       "evalue": "Shape mismatch.",
       "output_type": "pyerr",
       "traceback": [
        "\u001b[1;31m---------------------------------------------------------------------------\u001b[0m\n\u001b[1;31mUFLException\u001b[0m                              Traceback (most recent call last)",
        "\u001b[1;32m<ipython-input-30-f8d8d21cce57>\u001b[0m in \u001b[0;36m<module>\u001b[1;34m()\u001b[0m\n\u001b[1;32m----> 1\u001b[1;33m \u001b[0mL\u001b[0m \u001b[1;33m=\u001b[0m \u001b[0minner\u001b[0m\u001b[1;33m(\u001b[0m\u001b[0mgrad\u001b[0m\u001b[1;33m(\u001b[0m\u001b[0mw\u001b[0m\u001b[1;33m)\u001b[0m\u001b[1;33m,\u001b[0m \u001b[0mv\u001b[0m\u001b[1;33m)\u001b[0m\u001b[1;33m*\u001b[0m\u001b[0mdx\u001b[0m\u001b[1;33m\u001b[0m\u001b[0m\n\u001b[0m",
        "\u001b[1;32m/usr/lib/python2.7/dist-packages/ufl/operators.pyc\u001b[0m in \u001b[0;36minner\u001b[1;34m(a, b)\u001b[0m\n\u001b[0;32m    126\u001b[0m     \u001b[1;32mif\u001b[0m \u001b[0ma\u001b[0m\u001b[1;33m.\u001b[0m\u001b[0mshape\u001b[0m\u001b[1;33m(\u001b[0m\u001b[1;33m)\u001b[0m \u001b[1;33m==\u001b[0m \u001b[1;33m(\u001b[0m\u001b[1;33m)\u001b[0m \u001b[1;32mand\u001b[0m \u001b[0mb\u001b[0m\u001b[1;33m.\u001b[0m\u001b[0mshape\u001b[0m\u001b[1;33m(\u001b[0m\u001b[1;33m)\u001b[0m \u001b[1;33m==\u001b[0m \u001b[1;33m(\u001b[0m\u001b[1;33m)\u001b[0m\u001b[1;33m:\u001b[0m\u001b[1;33m\u001b[0m\u001b[0m\n\u001b[0;32m    127\u001b[0m         \u001b[1;32mreturn\u001b[0m \u001b[0ma\u001b[0m\u001b[1;33m*\u001b[0m\u001b[0mb\u001b[0m\u001b[1;33m\u001b[0m\u001b[0m\n\u001b[1;32m--> 128\u001b[1;33m     \u001b[1;32mreturn\u001b[0m \u001b[0mInner\u001b[0m\u001b[1;33m(\u001b[0m\u001b[0ma\u001b[0m\u001b[1;33m,\u001b[0m \u001b[0mb\u001b[0m\u001b[1;33m)\u001b[0m\u001b[1;33m\u001b[0m\u001b[0m\n\u001b[0m\u001b[0;32m    129\u001b[0m \u001b[1;33m\u001b[0m\u001b[0m\n\u001b[0;32m    130\u001b[0m \u001b[1;31m# TODO: Something like this would be useful in some cases,\u001b[0m\u001b[1;33m\u001b[0m\u001b[1;33m\u001b[0m\u001b[0m\n",
        "\u001b[1;32m/usr/lib/python2.7/dist-packages/ufl/tensoralgebra.pyc\u001b[0m in \u001b[0;36m__new__\u001b[1;34m(cls, a, b)\u001b[0m\n\u001b[0;32m    182\u001b[0m     \u001b[1;32mdef\u001b[0m \u001b[0m__new__\u001b[0m\u001b[1;33m(\u001b[0m\u001b[0mcls\u001b[0m\u001b[1;33m,\u001b[0m \u001b[0ma\u001b[0m\u001b[1;33m,\u001b[0m \u001b[0mb\u001b[0m\u001b[1;33m)\u001b[0m\u001b[1;33m:\u001b[0m\u001b[1;33m\u001b[0m\u001b[0m\n\u001b[0;32m    183\u001b[0m         \u001b[0mash\u001b[0m\u001b[1;33m,\u001b[0m \u001b[0mbsh\u001b[0m \u001b[1;33m=\u001b[0m \u001b[0ma\u001b[0m\u001b[1;33m.\u001b[0m\u001b[0mshape\u001b[0m\u001b[1;33m(\u001b[0m\u001b[1;33m)\u001b[0m\u001b[1;33m,\u001b[0m \u001b[0mb\u001b[0m\u001b[1;33m.\u001b[0m\u001b[0mshape\u001b[0m\u001b[1;33m(\u001b[0m\u001b[1;33m)\u001b[0m\u001b[1;33m\u001b[0m\u001b[0m\n\u001b[1;32m--> 184\u001b[1;33m         \u001b[0mufl_assert\u001b[0m\u001b[1;33m(\u001b[0m\u001b[0mash\u001b[0m \u001b[1;33m==\u001b[0m \u001b[0mbsh\u001b[0m\u001b[1;33m,\u001b[0m \u001b[1;34m\"Shape mismatch.\"\u001b[0m\u001b[1;33m)\u001b[0m\u001b[1;33m\u001b[0m\u001b[0m\n\u001b[0m\u001b[0;32m    185\u001b[0m         \u001b[1;32mif\u001b[0m \u001b[0misinstance\u001b[0m\u001b[1;33m(\u001b[0m\u001b[0ma\u001b[0m\u001b[1;33m,\u001b[0m \u001b[0mZero\u001b[0m\u001b[1;33m)\u001b[0m \u001b[1;32mor\u001b[0m \u001b[0misinstance\u001b[0m\u001b[1;33m(\u001b[0m\u001b[0mb\u001b[0m\u001b[1;33m,\u001b[0m \u001b[0mZero\u001b[0m\u001b[1;33m)\u001b[0m\u001b[1;33m:\u001b[0m\u001b[1;33m\u001b[0m\u001b[0m\n\u001b[0;32m    186\u001b[0m             \u001b[0mfree_indices\u001b[0m\u001b[1;33m,\u001b[0m \u001b[0mindex_dimensions\u001b[0m \u001b[1;33m=\u001b[0m \u001b[0mmerge_indices\u001b[0m\u001b[1;33m(\u001b[0m\u001b[0ma\u001b[0m\u001b[1;33m,\u001b[0m \u001b[0mb\u001b[0m\u001b[1;33m)\u001b[0m\u001b[1;33m\u001b[0m\u001b[0m\n",
        "\u001b[1;32m/usr/lib/python2.7/dist-packages/ufl/assertions.pyc\u001b[0m in \u001b[0;36mufl_assert\u001b[1;34m(condition, *message)\u001b[0m\n\u001b[0;32m     35\u001b[0m \u001b[1;32mdef\u001b[0m \u001b[0mufl_assert\u001b[0m\u001b[1;33m(\u001b[0m\u001b[0mcondition\u001b[0m\u001b[1;33m,\u001b[0m \u001b[1;33m*\u001b[0m\u001b[0mmessage\u001b[0m\u001b[1;33m)\u001b[0m\u001b[1;33m:\u001b[0m\u001b[1;33m\u001b[0m\u001b[0m\n\u001b[0;32m     36\u001b[0m     \u001b[1;34m\"Assert that condition is true and otherwise issue an error with given message.\"\u001b[0m\u001b[1;33m\u001b[0m\u001b[0m\n\u001b[1;32m---> 37\u001b[1;33m     \u001b[1;32mif\u001b[0m \u001b[1;32mnot\u001b[0m \u001b[0mcondition\u001b[0m\u001b[1;33m:\u001b[0m \u001b[0merror\u001b[0m\u001b[1;33m(\u001b[0m\u001b[1;33m*\u001b[0m\u001b[0mmessage\u001b[0m\u001b[1;33m)\u001b[0m\u001b[1;33m\u001b[0m\u001b[0m\n\u001b[0m\u001b[0;32m     38\u001b[0m \u001b[1;33m\u001b[0m\u001b[0m\n",
        "\u001b[1;32m/usr/lib/python2.7/dist-packages/ufl/log.pyc\u001b[0m in \u001b[0;36merror\u001b[1;34m(self, *message)\u001b[0m\n\u001b[0;32m    152\u001b[0m         \u001b[1;34m\"Write error message and raise an exception.\"\u001b[0m\u001b[1;33m\u001b[0m\u001b[0m\n\u001b[0;32m    153\u001b[0m         \u001b[0mself\u001b[0m\u001b[1;33m.\u001b[0m\u001b[0m_log\u001b[0m\u001b[1;33m.\u001b[0m\u001b[0merror\u001b[0m\u001b[1;33m(\u001b[0m\u001b[1;33m*\u001b[0m\u001b[0mmessage\u001b[0m\u001b[1;33m)\u001b[0m\u001b[1;33m\u001b[0m\u001b[0m\n\u001b[1;32m--> 154\u001b[1;33m         \u001b[1;32mraise\u001b[0m \u001b[0mself\u001b[0m\u001b[1;33m.\u001b[0m\u001b[0m_exception_type\u001b[0m\u001b[1;33m(\u001b[0m\u001b[0mself\u001b[0m\u001b[1;33m.\u001b[0m\u001b[0m_format_raw\u001b[0m\u001b[1;33m(\u001b[0m\u001b[1;33m*\u001b[0m\u001b[0mmessage\u001b[0m\u001b[1;33m)\u001b[0m\u001b[1;33m)\u001b[0m\u001b[1;33m\u001b[0m\u001b[0m\n\u001b[0m\u001b[0;32m    155\u001b[0m \u001b[1;33m\u001b[0m\u001b[0m\n\u001b[0;32m    156\u001b[0m     \u001b[1;32mdef\u001b[0m \u001b[0mbegin\u001b[0m\u001b[1;33m(\u001b[0m\u001b[0mself\u001b[0m\u001b[1;33m,\u001b[0m \u001b[1;33m*\u001b[0m\u001b[0mmessage\u001b[0m\u001b[1;33m)\u001b[0m\u001b[1;33m:\u001b[0m\u001b[1;33m\u001b[0m\u001b[0m\n",
        "\u001b[1;31mUFLException\u001b[0m: Shape mismatch."
       ]
      }
     ],
     "prompt_number": 30
    },
    {
     "cell_type": "code",
     "collapsed": false,
     "input": [
      "grad_u = Function(V_g)\n",
      "solve(a == L, grad_u)\n",
      "\n",
      "plot(grad_u, title='grad(u)')"
     ],
     "language": "python",
     "metadata": {},
     "outputs": [
      {
       "output_type": "stream",
       "stream": "stderr",
       "text": [
        "INFO:FFC:Adjusting missing element domain to Domain(Cell('triangle', 2), 'triangle_multiverse', 2, 2).\n"
       ]
      },
      {
       "output_type": "stream",
       "stream": "stderr",
       "text": [
        "INFO:FFC:Adjusting element degree from ? to 1\n"
       ]
      },
      {
       "output_type": "stream",
       "stream": "stderr",
       "text": [
        "DEBUG:FFC:Reusing form from cache.\n"
       ]
      },
      {
       "output_type": "stream",
       "stream": "stderr",
       "text": [
        "DEBUG:UFL:No integrals left after transformation, returning empty form.\n"
       ]
      },
      {
       "output_type": "stream",
       "stream": "stderr",
       "text": [
        "DEBUG:UFL:No integrals left after transformation, returning empty form.\n"
       ]
      },
      {
       "output_type": "stream",
       "stream": "stderr",
       "text": [
        "DEBUG:FFC:Reusing form from cache.\n"
       ]
      },
      {
       "ename": "RuntimeError",
       "evalue": "\n\n*** -------------------------------------------------------------------------\n*** DOLFIN encountered an error. If you are not able to resolve this issue\n*** using the information listed below, you can ask for help at\n***\n***     fenics@fenicsproject.org\n***\n*** Remember to include the error message listed below and, if possible,\n*** include a *minimal* running example to reproduce the error.\n***\n*** -------------------------------------------------------------------------\n*** Error:   Unable to solve linear system using PETSc LU solver.\n*** Reason:  Cannot factorize non-square PETSc matrix.\n*** Where:   This error was encountered inside PETScLUSolver.cpp.\n*** Process: 0\n*** \n*** DOLFIN version: 1.3.0\n*** Git changeset:  unknown\n*** -------------------------------------------------------------------------\n",
       "output_type": "pyerr",
       "traceback": [
        "\u001b[1;31m---------------------------------------------------------------------------\u001b[0m\n\u001b[1;31mRuntimeError\u001b[0m                              Traceback (most recent call last)",
        "\u001b[1;32m<ipython-input-17-a401ddf56d19>\u001b[0m in \u001b[0;36m<module>\u001b[1;34m()\u001b[0m\n\u001b[0;32m      1\u001b[0m \u001b[0mgrad_u\u001b[0m \u001b[1;33m=\u001b[0m \u001b[0mFunction\u001b[0m\u001b[1;33m(\u001b[0m\u001b[0mV_g\u001b[0m\u001b[1;33m)\u001b[0m\u001b[1;33m\u001b[0m\u001b[0m\n\u001b[1;32m----> 2\u001b[1;33m \u001b[0msolve\u001b[0m\u001b[1;33m(\u001b[0m\u001b[0ma\u001b[0m \u001b[1;33m==\u001b[0m \u001b[0mL\u001b[0m\u001b[1;33m,\u001b[0m \u001b[0mgrad_u\u001b[0m\u001b[1;33m)\u001b[0m\u001b[1;33m\u001b[0m\u001b[0m\n\u001b[0m\u001b[0;32m      3\u001b[0m \u001b[1;33m\u001b[0m\u001b[0m\n\u001b[0;32m      4\u001b[0m \u001b[0mplot\u001b[0m\u001b[1;33m(\u001b[0m\u001b[0mgrad_u\u001b[0m\u001b[1;33m,\u001b[0m \u001b[0mtitle\u001b[0m\u001b[1;33m=\u001b[0m\u001b[1;34m'grad(u)'\u001b[0m\u001b[1;33m)\u001b[0m\u001b[1;33m\u001b[0m\u001b[0m\n",
        "\u001b[1;32m/usr/lib/python2.7/dist-packages/dolfin/fem/solving.pyc\u001b[0m in \u001b[0;36msolve\u001b[1;34m(*args, **kwargs)\u001b[0m\n\u001b[0;32m    266\u001b[0m     \u001b[1;31m# Call variational problem solver if we get an equation (but not a tolerance)\u001b[0m\u001b[1;33m\u001b[0m\u001b[1;33m\u001b[0m\u001b[0m\n\u001b[0;32m    267\u001b[0m     \u001b[1;32melif\u001b[0m \u001b[0misinstance\u001b[0m\u001b[1;33m(\u001b[0m\u001b[0margs\u001b[0m\u001b[1;33m[\u001b[0m\u001b[1;36m0\u001b[0m\u001b[1;33m]\u001b[0m\u001b[1;33m,\u001b[0m \u001b[0mufl\u001b[0m\u001b[1;33m.\u001b[0m\u001b[0mclasses\u001b[0m\u001b[1;33m.\u001b[0m\u001b[0mEquation\u001b[0m\u001b[1;33m)\u001b[0m\u001b[1;33m:\u001b[0m\u001b[1;33m\u001b[0m\u001b[0m\n\u001b[1;32m--> 268\u001b[1;33m         \u001b[0m_solve_varproblem\u001b[0m\u001b[1;33m(\u001b[0m\u001b[1;33m*\u001b[0m\u001b[0margs\u001b[0m\u001b[1;33m,\u001b[0m \u001b[1;33m**\u001b[0m\u001b[0mkwargs\u001b[0m\u001b[1;33m)\u001b[0m\u001b[1;33m\u001b[0m\u001b[0m\n\u001b[0m\u001b[0;32m    269\u001b[0m \u001b[1;33m\u001b[0m\u001b[0m\n\u001b[0;32m    270\u001b[0m     \u001b[1;31m# Default case, just call the wrapped C++ solve function\u001b[0m\u001b[1;33m\u001b[0m\u001b[1;33m\u001b[0m\u001b[0m\n",
        "\u001b[1;32m/usr/lib/python2.7/dist-packages/dolfin/fem/solving.pyc\u001b[0m in \u001b[0;36m_solve_varproblem\u001b[1;34m(*args, **kwargs)\u001b[0m\n\u001b[0;32m    295\u001b[0m         \u001b[0msolver\u001b[0m \u001b[1;33m=\u001b[0m \u001b[0mLinearVariationalSolver\u001b[0m\u001b[1;33m(\u001b[0m\u001b[0mproblem\u001b[0m\u001b[1;33m)\u001b[0m\u001b[1;33m\u001b[0m\u001b[0m\n\u001b[0;32m    296\u001b[0m         \u001b[0msolver\u001b[0m\u001b[1;33m.\u001b[0m\u001b[0mparameters\u001b[0m\u001b[1;33m.\u001b[0m\u001b[0mupdate\u001b[0m\u001b[1;33m(\u001b[0m\u001b[0msolver_parameters\u001b[0m\u001b[1;33m)\u001b[0m\u001b[1;33m\u001b[0m\u001b[0m\n\u001b[1;32m--> 297\u001b[1;33m         \u001b[0msolver\u001b[0m\u001b[1;33m.\u001b[0m\u001b[0msolve\u001b[0m\u001b[1;33m(\u001b[0m\u001b[1;33m)\u001b[0m\u001b[1;33m\u001b[0m\u001b[0m\n\u001b[0m\u001b[0;32m    298\u001b[0m \u001b[1;33m\u001b[0m\u001b[0m\n\u001b[0;32m    299\u001b[0m     \u001b[1;31m# Solve nonlinear variational problem\u001b[0m\u001b[1;33m\u001b[0m\u001b[1;33m\u001b[0m\u001b[0m\n",
        "\u001b[1;31mRuntimeError\u001b[0m: \n\n*** -------------------------------------------------------------------------\n*** DOLFIN encountered an error. If you are not able to resolve this issue\n*** using the information listed below, you can ask for help at\n***\n***     fenics@fenicsproject.org\n***\n*** Remember to include the error message listed below and, if possible,\n*** include a *minimal* running example to reproduce the error.\n***\n*** -------------------------------------------------------------------------\n*** Error:   Unable to solve linear system using PETSc LU solver.\n*** Reason:  Cannot factorize non-square PETSc matrix.\n*** Where:   This error was encountered inside PETScLUSolver.cpp.\n*** Process: 0\n*** \n*** DOLFIN version: 1.3.0\n*** Git changeset:  unknown\n*** -------------------------------------------------------------------------\n"
       ]
      }
     ],
     "prompt_number": 17
    },
    {
     "cell_type": "code",
     "collapsed": false,
     "input": [],
     "language": "python",
     "metadata": {},
     "outputs": []
    }
   ],
   "metadata": {}
  }
 ]
}