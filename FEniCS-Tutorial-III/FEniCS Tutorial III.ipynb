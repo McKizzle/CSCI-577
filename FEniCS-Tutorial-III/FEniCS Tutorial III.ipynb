{
 "metadata": {
  "name": "",
  "signature": "sha256:0bc106a3dcf96783d2f7f1c6c6fc1384b406706a1e48528db2288c00c5b1436c"
 },
 "nbformat": 3,
 "nbformat_minor": 0,
 "worksheets": [
  {
   "cells": [
    {
     "cell_type": "markdown",
     "metadata": {},
     "source": [
      "# FEniCS Tutorial III\n",
      "## Nonlinear Problems - Cahn-Hillard Demo\n",
      "The documentation for the Cahn-Hillard demo can be located at [Cahn-Hillard Tutorial](http://fenicsproject.org/documentation/dolfin/dev/python/demo/pde/cahn-hilliard/python/documentation.html)\n",
      "\n",
      "There is also an existing python script of the Cahn-Hillard demo. "
     ]
    },
    {
     "cell_type": "markdown",
     "metadata": {},
     "source": [
      "Define a class for the initial conditions. Must be a subclass of `Expression`"
     ]
    },
    {
     "cell_type": "code",
     "collapsed": false,
     "input": [
      "#!/usr/bin/env python\n",
      "import random\n",
      "from dolfin import *\n",
      "\n",
      "# Class representing the intial conditions\n",
      "class InitialConditions(Expression):\n",
      "    def __init__(self):\n",
      "        random.seed(2 + MPI.process_number())\n",
      "    def eval(self, values, x):\n",
      "        values[0] = 0.63 + 0.02*(0.5 - random.random())\n",
      "        values[1] = 0.0\n",
      "    def value_shape(self):\n",
      "        return (2,)\n",
      "    "
     ],
     "language": "python",
     "metadata": {},
     "outputs": [],
     "prompt_number": 26
    },
    {
     "cell_type": "markdown",
     "metadata": {},
     "source": [
      "Next define a class to represent the nonlinear equation (in this case we are representing the cahn-hillard formula). _This may be needed to represent the shallow ice model_. $L$ and $a$ will be used to construct the _residual_ and _jacobian matrix_ "
     ]
    },
    {
     "cell_type": "code",
     "collapsed": false,
     "input": [
      "# Class for interfacing with the Newton solver\n",
      "class CahnHilliardEquation(NonlinearProblem):\n",
      "    def __init__(self, a, L):\n",
      "        NonlinearProblem.__init__(self)\n",
      "        self.L = L\n",
      "        self.a = a\n",
      "        self.reset_sparsity = True\n",
      "    def F(self, b, x):\n",
      "        assemble(self.L, tensor=b)\n",
      "    def J(self, A, x):\n",
      "        assemble(self.a, tensor=A, reset_sparsity=self.reset_sparsity)\n",
      "        self.reset_sparsity = False "
     ],
     "language": "python",
     "metadata": {},
     "outputs": [],
     "prompt_number": 36
    },
    {
     "cell_type": "markdown",
     "metadata": {},
     "source": [
      "Model parameters and compiler options"
     ]
    },
    {
     "cell_type": "code",
     "collapsed": false,
     "input": [
      "lmbda  = 1.0e-02  # surface parameter\n",
      "dt     = 5.0e-06  # time step\n",
      "theta  = 0.5      # time stepping family, e.g. \n",
      "                  #   theta=1 -> backward Euler, theta=0.5 -> Crank-Nicolson\n",
      "\n",
      "parameters[\"form_compiler\"][\"optimize\"]     = True\n",
      "parameters[\"form_compiler\"][\"cpp_optimize\"] = True\n",
      "parameters[\"form_compiler\"][\"representation\"] = \"quadrature\""
     ],
     "language": "python",
     "metadata": {},
     "outputs": [],
     "prompt_number": 37
    },
    {
     "cell_type": "markdown",
     "metadata": {},
     "source": [
      "Construct the mesh and the function space."
     ]
    },
    {
     "cell_type": "code",
     "collapsed": false,
     "input": [
      "# Create mesh and define function spaces\n",
      "mesh = UnitSquareMesh(96, 96)\n",
      "V = FunctionSpace(mesh, \"Lagrange\", 1)\n",
      "ME = V*V # The mixed space is defined here with the overloaded * operator."
     ],
     "language": "python",
     "metadata": {},
     "outputs": [
      {
       "output_type": "stream",
       "stream": "stderr",
       "text": [
        "DEBUG:UFL:No integrals left after transformation, returning empty form.\n"
       ]
      },
      {
       "output_type": "stream",
       "stream": "stderr",
       "text": [
        "DEBUG:FFC:Reusing form from cache.\n"
       ]
      },
      {
       "output_type": "stream",
       "stream": "stderr",
       "text": [
        "DEBUG:UFL:No integrals left after transformation, returning empty form.\n"
       ]
      },
      {
       "output_type": "stream",
       "stream": "stderr",
       "text": [
        "DEBUG:FFC:Reusing form from cache.\n"
       ]
      }
     ],
     "prompt_number": 38
    },
    {
     "cell_type": "markdown",
     "metadata": {},
     "source": [
      "Define the test functions $q, v$ as `q, v = TestFunctions(ME)`. Then define the trial function as $\\tilde{u}$ as `du = TrialFunctions(ME)`."
     ]
    },
    {
     "cell_type": "code",
     "collapsed": false,
     "input": [
      "# Define trial and test functions\n",
      "du    = TrialFunction(ME)\n",
      "q, v  = TestFunctions(ME) # u = u_k + omega*du"
     ],
     "language": "python",
     "metadata": {},
     "outputs": [],
     "prompt_number": 39
    },
    {
     "cell_type": "code",
     "collapsed": false,
     "input": [
      "# Define functions\n",
      "u   = Function(ME)  # current solution\n",
      "u0  = Function(ME)  # solution from previous converged step\n",
      "\n",
      "# Split mixed functions\n",
      "dc, dmu = split(du)\n",
      "c,  mu  = split(u)\n",
      "c0, mu0 = split(u0)"
     ],
     "language": "python",
     "metadata": {},
     "outputs": [],
     "prompt_number": 40
    },
    {
     "cell_type": "markdown",
     "metadata": {},
     "source": [
      "Initialize $u_0$ using the `InitialConditions`."
     ]
    },
    {
     "cell_type": "code",
     "collapsed": false,
     "input": [
      "# Create intial conditions and interpolate\n",
      "u_init = InitialConditions()\n",
      "u.interpolate(u_init)\n",
      "u0.interpolate(u_init)"
     ],
     "language": "python",
     "metadata": {},
     "outputs": [],
     "prompt_number": 32
    },
    {
     "cell_type": "code",
     "collapsed": false,
     "input": [
      "# Compute the chemical potential df/dc\n",
      "c = variable(c)\n",
      "f    = 100*c**2*(1-c)**2\n",
      "dfdc = diff(f, c)\n",
      "\n",
      "# mu_(n+theta)\n",
      "mu_mid = (1.0-theta)*mu0 + theta*mu\n",
      "\n",
      "# Weak statement of the equations\n",
      "L0 = c*q*dx - c0*q*dx + dt*dot(grad(mu_mid), grad(q))*dx\n",
      "L1 = mu*v*dx - dfdc*v*dx - lmbda*dot(grad(c), grad(v))*dx\n",
      "L = L0 + L1\n"
     ],
     "language": "python",
     "metadata": {},
     "outputs": [],
     "prompt_number": 33
    },
    {
     "cell_type": "markdown",
     "metadata": {},
     "source": [
      "Non linear problem and newton solver intizializtion. "
     ]
    },
    {
     "cell_type": "code",
     "collapsed": false,
     "input": [
      "# Create nonlinear problem and Newton solver\n",
      "problem = CahnHilliardEquation(a, L)\n",
      "solver = NewtonSolver()\n",
      "solver.parameters[\"linear_solver\"] = \"lu\"\n",
      "solver.parameters[\"convergence_criterion\"] = \"incremental\"\n",
      "solver.parameters[\"relative_tolerance\"] = 1e-6\n",
      "\n",
      "# Output file\n",
      "file = File(\"output.pvd\", \"compressed\")"
     ],
     "language": "python",
     "metadata": {},
     "outputs": [],
     "prompt_number": 34
    },
    {
     "cell_type": "code",
     "collapsed": false,
     "input": [
      "# Step in time\n",
      "t = 0.0\n",
      "T = 50*dt\n",
      "while (t < T):\n",
      "    t += dt\n",
      "    u0.vector()[:] = u.vector()\n",
      "    solver.solve(problem, u.vector())\n",
      "    file << (u.split()[0], t)"
     ],
     "language": "python",
     "metadata": {},
     "outputs": [
      {
       "output_type": "stream",
       "stream": "stderr",
       "text": [
        "DEBUG:UFL:No integrals left after transformation, returning empty form.\n"
       ]
      },
      {
       "output_type": "stream",
       "stream": "stderr",
       "text": [
        "DEBUG:FFC:Reusing form from cache.\n"
       ]
      },
      {
       "output_type": "stream",
       "stream": "stderr",
       "text": [
        "DEBUG:FFC:Reusing form from cache.\n"
       ]
      },
      {
       "ename": "RuntimeError",
       "evalue": "\n\n*** -------------------------------------------------------------------------\n*** DOLFIN encountered an error. If you are not able to resolve this issue\n*** using the information listed below, you can ask for help at\n***\n***     fenics@fenicsproject.org\n***\n*** Remember to include the error message listed below and, if possible,\n*** include a *minimal* running example to reproduce the error.\n***\n*** -------------------------------------------------------------------------\n*** Error:   Unable to solve linear system using PETSc LU solver.\n*** Reason:  Cannot factorize non-square PETSc matrix.\n*** Where:   This error was encountered inside PETScLUSolver.cpp.\n*** Process: 0\n*** \n*** DOLFIN version: 1.3.0\n*** Git changeset:  unknown\n*** -------------------------------------------------------------------------\n",
       "output_type": "pyerr",
       "traceback": [
        "\u001b[1;31m---------------------------------------------------------------------------\u001b[0m\n\u001b[1;31mRuntimeError\u001b[0m                              Traceback (most recent call last)",
        "\u001b[1;32m<ipython-input-35-630132916618>\u001b[0m in \u001b[0;36m<module>\u001b[1;34m()\u001b[0m\n\u001b[0;32m      5\u001b[0m     \u001b[0mt\u001b[0m \u001b[1;33m+=\u001b[0m \u001b[0mdt\u001b[0m\u001b[1;33m\u001b[0m\u001b[0m\n\u001b[0;32m      6\u001b[0m     \u001b[0mu0\u001b[0m\u001b[1;33m.\u001b[0m\u001b[0mvector\u001b[0m\u001b[1;33m(\u001b[0m\u001b[1;33m)\u001b[0m\u001b[1;33m[\u001b[0m\u001b[1;33m:\u001b[0m\u001b[1;33m]\u001b[0m \u001b[1;33m=\u001b[0m \u001b[0mu\u001b[0m\u001b[1;33m.\u001b[0m\u001b[0mvector\u001b[0m\u001b[1;33m(\u001b[0m\u001b[1;33m)\u001b[0m\u001b[1;33m\u001b[0m\u001b[0m\n\u001b[1;32m----> 7\u001b[1;33m     \u001b[0msolver\u001b[0m\u001b[1;33m.\u001b[0m\u001b[0msolve\u001b[0m\u001b[1;33m(\u001b[0m\u001b[0mproblem\u001b[0m\u001b[1;33m,\u001b[0m \u001b[0mu\u001b[0m\u001b[1;33m.\u001b[0m\u001b[0mvector\u001b[0m\u001b[1;33m(\u001b[0m\u001b[1;33m)\u001b[0m\u001b[1;33m)\u001b[0m\u001b[1;33m\u001b[0m\u001b[0m\n\u001b[0m\u001b[0;32m      8\u001b[0m     \u001b[0mfile\u001b[0m \u001b[1;33m<<\u001b[0m \u001b[1;33m(\u001b[0m\u001b[0mu\u001b[0m\u001b[1;33m.\u001b[0m\u001b[0msplit\u001b[0m\u001b[1;33m(\u001b[0m\u001b[1;33m)\u001b[0m\u001b[1;33m[\u001b[0m\u001b[1;36m0\u001b[0m\u001b[1;33m]\u001b[0m\u001b[1;33m,\u001b[0m \u001b[0mt\u001b[0m\u001b[1;33m)\u001b[0m\u001b[1;33m\u001b[0m\u001b[0m\n",
        "\u001b[1;31mRuntimeError\u001b[0m: \n\n*** -------------------------------------------------------------------------\n*** DOLFIN encountered an error. If you are not able to resolve this issue\n*** using the information listed below, you can ask for help at\n***\n***     fenics@fenicsproject.org\n***\n*** Remember to include the error message listed below and, if possible,\n*** include a *minimal* running example to reproduce the error.\n***\n*** -------------------------------------------------------------------------\n*** Error:   Unable to solve linear system using PETSc LU solver.\n*** Reason:  Cannot factorize non-square PETSc matrix.\n*** Where:   This error was encountered inside PETScLUSolver.cpp.\n*** Process: 0\n*** \n*** DOLFIN version: 1.3.0\n*** Git changeset:  unknown\n*** -------------------------------------------------------------------------\n"
       ]
      }
     ],
     "prompt_number": 35
    },
    {
     "cell_type": "markdown",
     "metadata": {},
     "source": [
      "![Output](./cahn-hillard.png)"
     ]
    },
    {
     "cell_type": "code",
     "collapsed": false,
     "input": [],
     "language": "python",
     "metadata": {},
     "outputs": []
    }
   ],
   "metadata": {}
  }
 ]
}