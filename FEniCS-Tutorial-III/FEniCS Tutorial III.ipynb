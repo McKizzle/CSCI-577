{
 "metadata": {
  "name": "",
  "signature": "sha256:2392fa13d759ef57f7ff1e39ca5556b23597b1ffd46d63a672ea155ed39423cb"
 },
 "nbformat": 3,
 "nbformat_minor": 0,
 "worksheets": [
  {
   "cells": [
    {
     "cell_type": "markdown",
     "metadata": {},
     "source": [
      "# FEniCS Tutorial III\n",
      "## Nonlinear Problems\n",
      "These notes follow the [Nonlinear Problems Tutorial](http://fenicsproject.org/documentation/tutorial/nonlinear.html)\n",
      "\n",
      "\n"
     ]
    },
    {
     "cell_type": "code",
     "collapsed": false,
     "input": [
      "from dolfin import *\n",
      "\n",
      "mesh = RectangleMesh(0, 0, 1500, 1500, 48, 48)"
     ],
     "language": "python",
     "metadata": {},
     "outputs": [],
     "prompt_number": 4
    },
    {
     "cell_type": "code",
     "collapsed": false,
     "input": [
      "plot(mesh)\n",
      "interactive()"
     ],
     "language": "python",
     "metadata": {},
     "outputs": [],
     "prompt_number": 5
    },
    {
     "cell_type": "code",
     "collapsed": false,
     "input": [],
     "language": "python",
     "metadata": {},
     "outputs": []
    }
   ],
   "metadata": {}
  }
 ]
}