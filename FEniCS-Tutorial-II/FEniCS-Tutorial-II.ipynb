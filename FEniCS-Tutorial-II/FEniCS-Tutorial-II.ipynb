{
 "metadata": {
  "name": "",
  "signature": "sha256:57a446085d8975d770edf210befffe882d851cf1a1aeaab301ac255bf8662acd"
 },
 "nbformat": 3,
 "nbformat_minor": 0,
 "worksheets": [
  {
   "cells": [
    {
     "cell_type": "markdown",
     "metadata": {},
     "source": [
      "# Time-Dependent Problems\n",
      "Follows the tutorial provided by FEniCS. The url is http://fenicsproject.org/documentation/tutorial/timedep.html"
     ]
    },
    {
     "cell_type": "markdown",
     "metadata": {},
     "source": [
      "## A Diffusion Problem and Its Discretization\n",
      "We are going to extend the Possion problem into the time domain (diffusion)\n",
      "\n"
     ]
    },
    {
     "cell_type": "markdown",
     "metadata": {},
     "source": [
      "## Implementation\n",
      "\n",
      "### Descritization of Diffusion Problem\n",
      "Descritize the diffusion PDE. \n",
      "\n",
      "\\begin{align}\n",
      "   \\frac{\\partial}{\\partial t} &= \\nabla^2 u^k + f^k \\\\\n",
      "   \\frac{u^k - u^{k-1}}{\\Delta t} &=  \\nabla^2 u^k + f^k\\\\\n",
      "\\end{align}\n",
      "\n",
      "Now lets set $u^0 = I$ where $I$ is the initial conditions of the system. \n",
      "\n",
      "### Conversion to Weak Form\n",
      "For consistancy with the class notes recall that $v = w$ and $u = \\nabla^2 u^k + f^k$\n",
      "\n",
      "\\begin{align}\n",
      "    a_0(u, v) &= \\int_\\Omega uv dx,\\\\\n",
      "    L_0(v)    &= \\int_\\Omega Iv dx, \\\\\n",
      "    a(u, v)   &= \\int_\\Omega (uv + \\Delta t\\nabla u * \\nabla v) dx, \\\\\n",
      "    L(v)      &= \\int_\\Omega (u^{k-1} + \\Delta t f^k) v dx\\\\\n",
      "\\end{align}\n",
      "\n",
      "### Variables\n",
      "  - $I$ is the initital conditions\n",
      "  - $f$ is the source function\n",
      "  - $u^0 = I$, the superscript $k=0$ is the timestep. \n",
      "  - $\\Omega$ is domain of integration (proper word usage?)\n",
      "  \n",
      "### Steps to Follow\n",
      "  - define the Dirichlet boundary condition\n",
      "  - if $u_1$ is to be computed by projecting $I$:\n",
      "    - define $a_0$ and $L_0$\n",
      "    - assemble matrix $M$ from $a_0$ and vector $b$ from $L_0$\n",
      "    - solve $MU = b$ and store $U$ in $u_1$\n",
      "  - else: (interpolation)\n",
      "    - let $u_1$ interpolate $I$\n",
      "  - define $a$ and $L$\n",
      "  - assemble matrix $A$ form $a$\n",
      "  - set some stopping time $T$\n",
      "  - $t = \\Delta t$\n",
      "  - while $t \\leq T$\n",
      "     - assamble vector $b$ from $L$\n",
      "     - apply essential boundary conditions\n",
      "     - $t \\leftarrow t + \\Delta t$\n",
      "     - $u_1 \\leftarrow u$ (be redy for the next step"
     ]
    },
    {
     "cell_type": "markdown",
     "metadata": {},
     "source": []
    },
    {
     "cell_type": "code",
     "collapsed": false,
     "input": [
      "from dolfin import *\n",
      "\n",
      "# Define the mesh and function space\n",
      "mesh = UnitSquareMesh(10, 10)\n",
      "\n",
      "alpha = 3\n",
      "beta = 1.2\n",
      "u0 = Expression('1 + x[0]*x[0] + alpha * x[1] * x[1] + beta * t', \n",
      "                alpha=alpha, beta=beta, t=0) # this is the I that was previously mentioned. \n",
      "u0.t = 0.0"
     ],
     "language": "python",
     "metadata": {},
     "outputs": [],
     "prompt_number": 1
    },
    {
     "cell_type": "code",
     "collapsed": false,
     "input": [
      "# Define the Dirichlet boundary\n",
      "def boundary(x, on_boundary):\n",
      "    return on_boundary\n",
      "\n",
      "FS = FunctionSpace(mesh, \"CG\", 1) # function space V\n",
      "\n",
      "bc = DirichletBC(FS, u0, boundary)\n"
     ],
     "language": "python",
     "metadata": {},
     "outputs": [
      {
       "output_type": "stream",
       "stream": "stderr",
       "text": [
        "DEBUG:UFL:No integrals left after transformation, returning empty form.\n"
       ]
      },
      {
       "output_type": "stream",
       "stream": "stderr",
       "text": [
        "DEBUG:FFC:Reusing form from cache.\n"
       ]
      }
     ],
     "prompt_number": 2
    },
    {
     "cell_type": "code",
     "collapsed": false,
     "input": [
      "u_1 = interpolate(u0, FS)\n",
      "# u_1 = project(u0, V)"
     ],
     "language": "python",
     "metadata": {},
     "outputs": [],
     "prompt_number": 3
    },
    {
     "cell_type": "code",
     "collapsed": false,
     "input": [
      "dt = 0.3\n",
      "ff = Function(FS)\n",
      "u = TrialFunction(FS)\n",
      "v = TestFunction(FS)\n",
      "f = Constant(beta - 2 - 2 * alpha)"
     ],
     "language": "python",
     "metadata": {},
     "outputs": [],
     "prompt_number": 4
    },
    {
     "cell_type": "code",
     "collapsed": false,
     "input": [
      "a = u*v*dx + dt*inner(nabla_grad(u), nabla_grad(v))*dx"
     ],
     "language": "python",
     "metadata": {},
     "outputs": [],
     "prompt_number": 5
    },
    {
     "cell_type": "code",
     "collapsed": false,
     "input": [
      "L = (u_1 + dt*f)*v*dx"
     ],
     "language": "python",
     "metadata": {},
     "outputs": [],
     "prompt_number": 6
    },
    {
     "cell_type": "code",
     "collapsed": false,
     "input": [
      "A = assemble(a) "
     ],
     "language": "python",
     "metadata": {},
     "outputs": [
      {
       "output_type": "stream",
       "stream": "stderr",
       "text": [
        "DEBUG:UFL:No integrals left after transformation, returning empty form.\n"
       ]
      },
      {
       "output_type": "stream",
       "stream": "stderr",
       "text": [
        "DEBUG:UFL:No integrals left after transformation, returning empty form.\n"
       ]
      },
      {
       "output_type": "stream",
       "stream": "stderr",
       "text": [
        "DEBUG:FFC:Reusing form from cache.\n"
       ]
      }
     ],
     "prompt_number": 7
    },
    {
     "cell_type": "code",
     "collapsed": false,
     "input": [
      "u = Function(FS)   # the unknown at a new time level\n",
      "T = 2             # total simulation time\n",
      "t = dt"
     ],
     "language": "python",
     "metadata": {},
     "outputs": [],
     "prompt_number": 8
    },
    {
     "cell_type": "code",
     "collapsed": false,
     "input": [
      "import numpy as np\n",
      "\n",
      "b = None # we want be to be defined at the first call of assemble. \n",
      "while t <= T:\n",
      "    b = assemble(L, tensor=b)\n",
      "    u0.t = t\n",
      "    bc.apply(A, b)\n",
      "    solve(A, u.vector(), b)\n",
      "    \n",
      "    u_e = interpolate(u0, FS)\n",
      "    maxdiff = np.abs(u_e.vector().array()-u.vector().array()).max()\n",
      "    print 'Max error, t=%.2f: %-10.7f' % (t, maxdiff)\n",
      "\n",
      "    t += dt\n",
      "    u_1.assign(u)"
     ],
     "language": "python",
     "metadata": {},
     "outputs": [
      {
       "output_type": "stream",
       "stream": "stderr",
       "text": [
        "INFO:FFC:Adjusting missing element domain to Domain(Cell('triangle', 2), 'triangle_multiverse', 2, 2).\n"
       ]
      },
      {
       "output_type": "stream",
       "stream": "stderr",
       "text": [
        "DEBUG:UFL:No integrals left after transformation, returning empty form.\n"
       ]
      },
      {
       "output_type": "stream",
       "stream": "stderr",
       "text": [
        "DEBUG:FFC:Reusing form from cache.\n"
       ]
      },
      {
       "output_type": "stream",
       "stream": "stderr",
       "text": [
        "INFO:FFC:Adjusting missing element domain to Domain(Cell('triangle', 2), 'triangle_multiverse', 2, 2).\n"
       ]
      },
      {
       "output_type": "stream",
       "stream": "stderr",
       "text": [
        "DEBUG:FFC:Reusing form from cache.\n"
       ]
      },
      {
       "output_type": "stream",
       "stream": "stderr",
       "text": [
        "INFO:FFC:Adjusting missing element domain to Domain(Cell('triangle', 2), 'triangle_multiverse', 2, 2).\n"
       ]
      },
      {
       "output_type": "stream",
       "stream": "stderr",
       "text": [
        "DEBUG:FFC:Reusing form from cache.\n"
       ]
      },
      {
       "output_type": "stream",
       "stream": "stderr",
       "text": [
        "INFO:FFC:Adjusting missing element domain to Domain(Cell('triangle', 2), 'triangle_multiverse', 2, 2).\n"
       ]
      },
      {
       "output_type": "stream",
       "stream": "stderr",
       "text": [
        "DEBUG:FFC:Reusing form from cache.\n"
       ]
      },
      {
       "output_type": "stream",
       "stream": "stderr",
       "text": [
        "INFO:FFC:Adjusting missing element domain to Domain(Cell('triangle', 2), 'triangle_multiverse', 2, 2).\n"
       ]
      },
      {
       "output_type": "stream",
       "stream": "stderr",
       "text": [
        "DEBUG:FFC:Reusing form from cache.\n"
       ]
      },
      {
       "output_type": "stream",
       "stream": "stderr",
       "text": [
        "INFO:FFC:Adjusting missing element domain to Domain(Cell('triangle', 2), 'triangle_multiverse', 2, 2).\n"
       ]
      },
      {
       "output_type": "stream",
       "stream": "stderr",
       "text": [
        "DEBUG:FFC:Reusing form from cache.\n"
       ]
      },
      {
       "output_type": "stream",
       "stream": "stdout",
       "text": [
        "Max error, t=0.30: 0.0000000 \n",
        "Max error, t=0.60: 0.0000000 \n",
        "Max error, t=0.90: 0.0000000 \n",
        "Max error, t=1.20: 0.0000000 \n",
        "Max error, t=1.50: 0.0000000 \n",
        "Max error, t=1.80: 0.0000000 \n"
       ]
      }
     ],
     "prompt_number": 9
    },
    {
     "cell_type": "markdown",
     "metadata": {},
     "source": [
      "## Avoiding Assembly (Linear System)\n",
      "For extra information refer to the \n",
      "<a href=\"http://fenicsproject.org/documentation/tutorial/fundamentals.html#tut-poisson1-linalg\"> \n",
      "  A Linear Algebra Formulation \n",
      "</a>\n",
      "\n",
      "tutorial. \n",
      "\n",
      "### Component Breakdown\n",
      "We know tha that $u^{k-1}=\\sum_{j=1}^NU^{k-1}_j\\phi_j$ and that $f^{k}=\\sum_{j=1}^NF^{k}_j\\phi_j$. Now lets insert these expressions into $L(v)$ and using $v=\\hat\\phi_i$ we get...\n",
      "\n",
      "\\begin{align}\n",
      "  \\int_\\Omega \\left(u^{k-1} + {\\Delta t}f^k\\right)v \\, \\mathrm{d}x &=\n",
      "\\int_\\Omega \\left(\\sum_{j=1}^N U^{k-1}_j\\phi_j + {\\Delta t}\\sum_{j=1}^N F^{k}_j\\phi_j\\right)\\hat\\phi_i \\, \\mathrm{d}x\\\\\n",
      "  &=\\sum_{j=1}^N\\left(\\int_\\Omega \\hat\\phi_i\\phi_j \\, \\mathrm{d}x\\right)U^{k-1}_j\n",
      " + {\\Delta t}\\sum_{j=1}^N\\left(\\int_\\Omega \\hat\\phi_i\\phi_j \\, \\mathrm{d}x\\right)F^{k}_j\\thinspace\n",
      "\\end{align}\n",
      "\n",
      "Lets introduce the masss matrix $M_{ij} = \\int_\\Omega \\hat\\phi_i\\phi_j \\,\n",
      "\\mathrm{d}x$ in order to rewrite the last expression. \n",
      "\n",
      "\\begin{align}\n",
      "  &=\\sum_{j=1}^NM_{ij}U^{k-1}_j + {\\Delta t} \\sum_{j=1}^NM_{ij}F^{k}_j\\\\\n",
      "  &= MU^{k-1} + \\Delta t MF^k\n",
      "\\end{align}\n",
      "\n",
      "Lets tie this formula to the program. `u_1` is essentially $U^{k-1}$ and that $F^k$ is the interpolated function $f$ (at each time level if $f$ varies in time). The end result is that the right hand side is simply \n",
      "\n",
      "\\begin{align}\n",
      "  b &= MU^{k-1} + \\Delta t MF^k\n",
      "\\end{align}\n"
     ]
    },
    {
     "cell_type": "code",
     "collapsed": false,
     "input": [
      "a_K = inner(nabla_grad(u), nabla_grad(v)) * dx\n",
      "a_M = u * v * dx"
     ],
     "language": "python",
     "metadata": {},
     "outputs": [],
     "prompt_number": 10
    },
    {
     "cell_type": "code",
     "collapsed": false,
     "input": [
      "M = assemble(a_M)\n",
      "K = assemble(a_K)\n",
      "A = M + dt * k"
     ],
     "language": "python",
     "metadata": {},
     "outputs": [
      {
       "output_type": "stream",
       "stream": "stderr",
       "text": [
        "DEBUG:UFL:No integrals left after transformation, returning empty form.\n"
       ]
      },
      {
       "output_type": "stream",
       "stream": "stderr",
       "text": [
        "DEBUG:FFC:Reusing form from cache.\n"
       ]
      },
      {
       "output_type": "stream",
       "stream": "stderr",
       "text": [
        "DEBUG:UFL:No integrals left after transformation, returning empty form.\n"
       ]
      },
      {
       "output_type": "stream",
       "stream": "stderr",
       "text": [
        "DEBUG:FFC:Reusing form from cache.\n"
       ]
      },
      {
       "ename": "TypeError",
       "evalue": "unsupported operand type(s) for *: 'float' and 'Index'",
       "output_type": "pyerr",
       "traceback": [
        "\u001b[1;31m---------------------------------------------------------------------------\u001b[0m\n\u001b[1;31mTypeError\u001b[0m                                 Traceback (most recent call last)",
        "\u001b[1;32m<ipython-input-11-b3d50112c899>\u001b[0m in \u001b[0;36m<module>\u001b[1;34m()\u001b[0m\n\u001b[0;32m      1\u001b[0m \u001b[0mM\u001b[0m \u001b[1;33m=\u001b[0m \u001b[0massemble\u001b[0m\u001b[1;33m(\u001b[0m\u001b[0ma_M\u001b[0m\u001b[1;33m)\u001b[0m\u001b[1;33m\u001b[0m\u001b[0m\n\u001b[0;32m      2\u001b[0m \u001b[0mK\u001b[0m \u001b[1;33m=\u001b[0m \u001b[0massemble\u001b[0m\u001b[1;33m(\u001b[0m\u001b[0ma_K\u001b[0m\u001b[1;33m)\u001b[0m\u001b[1;33m\u001b[0m\u001b[0m\n\u001b[1;32m----> 3\u001b[1;33m \u001b[0mA\u001b[0m \u001b[1;33m=\u001b[0m \u001b[0mM\u001b[0m \u001b[1;33m+\u001b[0m \u001b[0mdt\u001b[0m \u001b[1;33m*\u001b[0m \u001b[0mk\u001b[0m\u001b[1;33m\u001b[0m\u001b[0m\n\u001b[0m",
        "\u001b[1;31mTypeError\u001b[0m: unsupported operand type(s) for *: 'float' and 'Index'"
       ]
      }
     ],
     "prompt_number": 11
    },
    {
     "cell_type": "code",
     "collapsed": false,
     "input": [
      "f = Expression('beta - 2 - 2 * alpha' , beta=beta, alpha=alpha)"
     ],
     "language": "python",
     "metadata": {},
     "outputs": [],
     "prompt_number": 12
    },
    {
     "cell_type": "code",
     "collapsed": false,
     "input": [
      "# 5. and 6.\n",
      "T = 2             # total simulation time\n",
      "t = dt\n",
      "while t <= T:\n",
      "    f_k = interpolate(f, FS)\n",
      "    F_k = f_k.vector()\n",
      "    b = M*u_1.vector() + dt*M*F_k\n",
      "    \n",
      "    t += dt\n",
      "    u_1.assign(u)"
     ],
     "language": "python",
     "metadata": {},
     "outputs": [],
     "prompt_number": 13
    },
    {
     "cell_type": "code",
     "collapsed": false,
     "input": [
      "plot(f_k)\n",
      "interactive()"
     ],
     "language": "python",
     "metadata": {},
     "outputs": [],
     "prompt_number": 14
    },
    {
     "cell_type": "code",
     "collapsed": false,
     "input": [],
     "language": "python",
     "metadata": {},
     "outputs": []
    },
    {
     "cell_type": "code",
     "collapsed": false,
     "input": [],
     "language": "python",
     "metadata": {},
     "outputs": []
    }
   ],
   "metadata": {}
  }
 ]
}