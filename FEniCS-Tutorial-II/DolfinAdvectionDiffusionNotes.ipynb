{
 "metadata": {
  "name": "",
  "signature": "sha256:6d25ff6b70335b74f1ebd7d91a6122d31a7fe6f3054d4c9a7be825fd5c072327"
 },
 "nbformat": 3,
 "nbformat_minor": 0,
 "worksheets": [
  {
   "cells": [
    {
     "cell_type": "markdown",
     "metadata": {},
     "source": [
      "# Dolfin Advection Diffusion Notes\n",
      "This is a breakdown of the advection diffusion code located in the dolfin demos in the directory `/usr/share/dolfin/demo/undocumented/advection-diffusion/`\n",
      "\n",
      "\n",
      "## Boundary Condition\n",
      "First they define a boundary condition inside of `boundary_value(n)`. "
     ]
    },
    {
     "cell_type": "code",
     "collapsed": false,
     "input": [
      "from dolfin import *"
     ],
     "language": "python",
     "metadata": {},
     "outputs": [],
     "prompt_number": 1
    },
    {
     "cell_type": "code",
     "collapsed": false,
     "input": [
      "def boundary_value(n):\n",
      "    if n < 10:\n",
      "        return float(n) / 10.0\n",
      "    else:\n",
      "        return 1.0"
     ],
     "language": "python",
     "metadata": {},
     "outputs": [],
     "prompt_number": 3
    },
    {
     "cell_type": "markdown",
     "metadata": {},
     "source": [
      "Now load up the mesh and subdomains. "
     ]
    },
    {
     "cell_type": "code",
     "collapsed": false,
     "input": [],
     "language": "python",
     "metadata": {},
     "outputs": []
    }
   ],
   "metadata": {}
  }
 ]
}